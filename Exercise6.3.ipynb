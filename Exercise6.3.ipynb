{
 "cells": [
  {
   "cell_type": "code",
   "execution_count": null,
   "id": "c3ff2c98",
   "metadata": {},
   "outputs": [],
   "source": [
    "guess_me=5 \n",
    "for number in range(10):\n",
    "         if number < guess_me:         \n",
    "            print(\"too low\")     \n",
    "        elif number == guess_me:         \n",
    "            print(\"found it !\")       \n",
    "        else:         \n",
    "            print(\"oops\")"
   ]
  }
 ],
 "metadata": {
  "kernelspec": {
   "display_name": "Python 3",
   "language": "python",
   "name": "python3"
  },
  "language_info": {
   "codemirror_mode": {
    "name": "ipython",
    "version": 3
   },
   "file_extension": ".py",
   "mimetype": "text/x-python",
   "name": "python",
   "nbconvert_exporter": "python",
   "pygments_lexer": "ipython3",
   "version": "3.8.8"
  }
 },
 "nbformat": 4,
 "nbformat_minor": 5
}
